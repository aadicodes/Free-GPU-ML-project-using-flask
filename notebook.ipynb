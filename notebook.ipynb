{
  "cells": [
    {
      "cell_type": "code",
      "execution_count": 18,
      "metadata": {
        "id": "l3se7MscTM3p",
        "outputId": "1cc48514-577c-4e0e-8334-c0d38edbaecc",
        "colab": {
          "base_uri": "https://localhost:8080/"
        }
      },
      "outputs": [
        {
          "output_type": "stream",
          "name": "stdout",
          "text": [
            "Current Directory: /content/free-flask-gpu-app/free-flask-gpu-app/free-flask-gpu-app/free-flask-gpu-app\n"
          ]
        }
      ],
      "source": [
        "import os\n",
        "from pathlib import Path\n",
        "\n",
        "Path(\"aadi-flask-gpu-app\").mkdir(exist_ok=True)\n",
        "\n",
        "cwd = os.getcwd()\n",
        "\n",
        "print(\"Current Directory:\", cwd)"
      ]
    },
    {
      "cell_type": "code",
      "execution_count": 12,
      "metadata": {
        "id": "Uc14p-rJTM3o",
        "outputId": "311fd39a-e251-484f-e14f-94d239577ba1",
        "colab": {
          "base_uri": "https://localhost:8080/"
        }
      },
      "outputs": [
        {
          "output_type": "stream",
          "name": "stdout",
          "text": [
            "Cloning into 'Free-GPU-ML-project-using-flask'...\n",
            "remote: Enumerating objects: 20, done.\u001b[K\n",
            "remote: Counting objects: 100% (20/20), done.\u001b[K\n",
            "remote: Compressing objects: 100% (16/16), done.\u001b[K\n",
            "Receiving objects: 100% (20/20), 5.53 KiB | 5.53 MiB/s, done.\n",
            "remote: Total 20 (delta 6), reused 17 (delta 3), pack-reused 0 (from 0)\u001b[K\n",
            "Resolving deltas: 100% (6/6), done.\n"
          ]
        }
      ],
      "source": [
        "!git clone https://github.com/aadicodes/Free-GPU-ML-project-using-flask.git"
      ]
    },
    {
      "cell_type": "code",
      "execution_count": 17,
      "metadata": {
        "id": "ufPoJc4XTM3p",
        "outputId": "30407f9a-04ba-44de-952b-63992a1ab058",
        "colab": {
          "base_uri": "https://localhost:8080/"
        }
      },
      "outputs": [
        {
          "output_type": "stream",
          "name": "stdout",
          "text": [
            "Current Directory: /content/free-flask-gpu-app/free-flask-gpu-app/free-flask-gpu-app\n",
            "Contents:\n",
            " - Free-GPU-ML-project-using-flask\n",
            "\u001b[31mERROR: Could not open requirements file: [Errno 2] No such file or directory: 'requirements.txt'\u001b[0m\u001b[31m\n",
            "\u001b[0m"
          ]
        }
      ],
      "source": [
        "# Get the current working directory\n",
        "cwd = os.getcwd()\n",
        "\n",
        "# List all files and folders in the current directory\n",
        "contents = os.listdir(cwd)\n",
        "\n",
        "print(\"Current Directory:\", cwd)\n",
        "print(\"Contents:\")\n",
        "for item in contents:\n",
        "    print(\" -\", item)\n",
        "!pip install -r requirements.txt"
      ]
    },
    {
      "cell_type": "code",
      "execution_count": 14,
      "metadata": {
        "id": "3mRIvOI4TM3q",
        "outputId": "9d11653b-b923-48a4-fcdb-51f67e2451d1",
        "colab": {
          "base_uri": "https://localhost:8080/"
        }
      },
      "outputs": [
        {
          "output_type": "stream",
          "name": "stdout",
          "text": [
            "/bin/bash: line 1: ngrok: command not found\n"
          ]
        }
      ],
      "source": [
        "!ngrok authtoken 30TDlr4bckXD5uo9p8YCDFQILEH_7ohXgPHUv9NTn5H8fEw3"
      ]
    },
    {
      "cell_type": "code",
      "execution_count": 15,
      "metadata": {
        "id": "1dLNvxzoTM3q",
        "outputId": "f2fe26a1-3e0e-4076-946a-461865bd51ea",
        "colab": {
          "base_uri": "https://localhost:8080/"
        }
      },
      "outputs": [
        {
          "output_type": "stream",
          "name": "stdout",
          "text": [
            "python3: can't open file '/content/free-flask-gpu-app/free-flask-gpu-app/free-flask-gpu-app/main.py': [Errno 2] No such file or directory\n"
          ]
        }
      ],
      "source": [
        "!python main.py"
      ]
    }
  ],
  "metadata": {
    "kernelspec": {
      "display_name": "Python 3",
      "name": "python3"
    },
    "language_info": {
      "name": "python",
      "version": "3.11.0 (v3.11.0:deaf509e8f, Oct 24 2022, 14:43:23) [Clang 13.0.0 (clang-1300.0.29.30)]"
    },
    "orig_nbformat": 4,
    "vscode": {
      "interpreter": {
        "hash": "aee8b7b246df8f9039afb4144a1f6fd8d2ca17a180786b69acc140d282b71a49"
      }
    },
    "colab": {
      "provenance": [],
      "gpuType": "T4"
    },
    "accelerator": "GPU"
  },
  "nbformat": 4,
  "nbformat_minor": 0
}